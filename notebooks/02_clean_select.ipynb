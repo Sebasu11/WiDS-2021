{
 "cells": [
  {
   "cell_type": "markdown",
   "id": "engaging-porter",
   "metadata": {},
   "source": [
    "# WiDS Datathon 2021 - Clean Feature Selection\n",
    "\n",
    "Target : Area under the Receiver Operating Characteristic (ROC) curve between the predicted and the observed target (diabetes_mellitus_diagnosis).\n",
    "\n",
    "by : Sebastián Uribe Ocampo"
   ]
  },
  {
   "cell_type": "markdown",
   "id": "boxed-giving",
   "metadata": {},
   "source": [
    "## Libraries"
   ]
  },
  {
   "cell_type": "code",
   "execution_count": 306,
   "id": "featured-subscription",
   "metadata": {},
   "outputs": [],
   "source": [
    "import warnings\n",
    "warnings.filterwarnings(\"ignore\")\n",
    "import pandas as pd\n",
    "import numpy as np\n",
    "\n",
    "import matplotlib.pyplot as plt\n",
    "from matplotlib.ticker import PercentFormatter\n",
    "import seaborn as sns\n",
    "sns.set_style(\"whitegrid\")\n",
    "#import plotly.express as px\n",
    "# pd.options.plotting.backend = \"plotly\"\n",
    "pd.set_option('display.max_rows', 60)\n",
    "pd.set_option('display.max_columns', 150)"
   ]
  },
  {
   "cell_type": "code",
   "execution_count": 50,
   "id": "committed-hormone",
   "metadata": {},
   "outputs": [],
   "source": [
    "from scipy.stats import chi2_contingency"
   ]
  },
  {
   "cell_type": "markdown",
   "id": "christian-hamburg",
   "metadata": {},
   "source": [
    "# UTILS"
   ]
  },
  {
   "cell_type": "code",
   "execution_count": 51,
   "id": "psychological-missile",
   "metadata": {},
   "outputs": [],
   "source": [
    "from IPython.display import display_html\n",
    "def display_side_by_side(*args):\n",
    "    html_str=''\n",
    "    for df in args:\n",
    "        html_str+=df.to_html()\n",
    "    display_html(html_str.replace('table','table style=\"display:inline\"'),raw=True)"
   ]
  },
  {
   "cell_type": "markdown",
   "id": "tracked-operator",
   "metadata": {},
   "source": [
    "# LOAD DATA"
   ]
  },
  {
   "cell_type": "code",
   "execution_count": 109,
   "id": "diagnostic-passenger",
   "metadata": {},
   "outputs": [],
   "source": [
    "data_info = pd.read_csv(\"../docs/DataDictionaryWiDS2021.csv\",sep=\";\")\n",
    "demographic_features = data_info[data_info[\"Category\"]==\"demographic\"].sort_values([\"Data Type\",\"Variable Name\"])[\"Variable Name\"].unique().tolist()\n",
    "demographic_features.remove(\"icu_admit_type\")\n",
    "apache_comorbidity_features = data_info[data_info[\"Category\"]==\"APACHE comorbidity\"].sort_values([\"Data Type\",\"Variable Name\"])[\"Variable Name\"].unique().tolist()\n",
    "apache_covariate_features =  data_info[data_info[\"Category\"]==\"APACHE covariate\"].sort_values([\"Data Type\",\"Variable Name\"])[\"Variable Name\"].unique().tolist()\n",
    "vitals_features =  data_info[data_info[\"Category\"]==\"vitals\"].sort_values([\"Data Type\",\"Variable Name\"])[\"Variable Name\"].unique().tolist()\n",
    "labs_features =  data_info[data_info[\"Category\"]==\"labs\"].sort_values([\"Data Type\",\"Variable Name\"])[\"Variable Name\"].unique().tolist()\n",
    "labs_bloodgas_features =  data_info[data_info[\"Category\"]==\"labs blood gas\"].sort_values([\"Data Type\",\"Variable Name\"])[\"Variable Name\"].unique().tolist()"
   ]
  },
  {
   "cell_type": "markdown",
   "id": "blind-employee",
   "metadata": {},
   "source": [
    "# Clean"
   ]
  },
  {
   "cell_type": "code",
   "execution_count": 53,
   "id": "introductory-courtesy",
   "metadata": {},
   "outputs": [
    {
     "data": {
      "text/plain": [
       "numeric    151\n",
       "binary      15\n",
       "string       9\n",
       "integer      6\n",
       "Name: Data Type, dtype: int64"
      ]
     },
     "execution_count": 53,
     "metadata": {},
     "output_type": "execute_result"
    }
   ],
   "source": [
    "data_info[\"Data Type\"].value_counts()"
   ]
  },
  {
   "cell_type": "code",
   "execution_count": 54,
   "id": "increased-finance",
   "metadata": {},
   "outputs": [
    {
     "data": {
      "text/plain": [
       "array(['elective_surgery', 'readmission_status', 'apache_post_operative',\n",
       "       'arf_apache', 'gcs_unable_apache', 'intubated_apache',\n",
       "       'ventilated_apache', 'aids', 'cirrhosis', 'hepatic_failure',\n",
       "       'immunosuppression', 'leukemia', 'lymphoma',\n",
       "       'solid_tumor_with_metastasis', 'diabetes_mellitus'], dtype=object)"
      ]
     },
     "execution_count": 54,
     "metadata": {},
     "output_type": "execute_result"
    }
   ],
   "source": [
    "data_info[data_info[\"Data Type\"]==\"binary\"][\"Variable Name\"].unique()"
   ]
  },
  {
   "cell_type": "code",
   "execution_count": 55,
   "id": "aggressive-spank",
   "metadata": {},
   "outputs": [],
   "source": [
    "categorical_data = ['ethnicity', 'gender', 'hospital_admit_source','icu_admit_source', 'icu_stay_type', 'icu_type','apache_2_diagnosis', 'apache_3j_diagnosis']\n",
    "dtype_dict = {}\n",
    "for var in data_info[\"Variable Name\"].unique():\n",
    "    if data_info[data_info[\"Variable Name\"]==var][\"Data Type\"].iloc[0]==\"binary\" :\n",
    "        pass#dtype_dict[var]=pd.Int64Dtype()\n",
    "    if data_info[data_info[\"Variable Name\"]==var][\"Data Type\"].iloc[0]==\"string\" :\n",
    "        dtype_dict[var]=\"object\"\n",
    "    if data_info[data_info[\"Variable Name\"]==var][\"Data Type\"].iloc[0]==\"numeric\" :\n",
    "        dtype_dict[var]=\"float64\"\n",
    "    if data_info[data_info[\"Variable Name\"]==var][\"Data Type\"].iloc[0]==\"integer\" :\n",
    "        pass#dtype_dict[var]=pd.Int64Dtype()\n",
    "    if var in categorical_data :\n",
    "        dtype_dict[var]=\"category\"\n",
    "        \n",
    "dtype_dict.pop('hospital_id', None)"
   ]
  },
  {
   "cell_type": "code",
   "execution_count": 56,
   "id": "collected-probe",
   "metadata": {},
   "outputs": [
    {
     "data": {
      "text/plain": [
       "{'age': 'float64',\n",
       " 'bmi': 'float64',\n",
       " 'ethnicity': 'category',\n",
       " 'gender': 'category',\n",
       " 'height': 'float64',\n",
       " 'hospital_admit_source': 'category',\n",
       " 'icu_admit_source': 'category',\n",
       " 'icu_admit_type': 'object',\n",
       " 'icu_stay_type': 'category',\n",
       " 'icu_type': 'category',\n",
       " 'pre_icu_los_days': 'float64',\n",
       " 'weight': 'float64',\n",
       " 'albumin_apache': 'float64',\n",
       " 'apache_2_diagnosis': 'category',\n",
       " 'apache_3j_diagnosis': 'category',\n",
       " 'bilirubin_apache': 'float64',\n",
       " 'bun_apache': 'float64',\n",
       " 'creatinine_apache': 'float64',\n",
       " 'fio2_apache': 'float64',\n",
       " 'glucose_apache': 'float64',\n",
       " 'heart_rate_apache': 'float64',\n",
       " 'hematocrit_apache': 'float64',\n",
       " 'map_apache': 'float64',\n",
       " 'paco2_apache': 'float64',\n",
       " 'paco2_for_ph_apache': 'float64',\n",
       " 'pao2_apache': 'float64',\n",
       " 'ph_apache': 'float64',\n",
       " 'resprate_apache': 'float64',\n",
       " 'sodium_apache': 'float64',\n",
       " 'temp_apache': 'float64',\n",
       " 'urineoutput_apache': 'float64',\n",
       " 'wbc_apache': 'float64',\n",
       " 'd1_diasbp_invasive_max': 'float64',\n",
       " 'd1_diasbp_invasive_min': 'float64',\n",
       " 'd1_diasbp_max': 'float64',\n",
       " 'd1_diasbp_min': 'float64',\n",
       " 'd1_diasbp_noninvasive_max': 'float64',\n",
       " 'd1_diasbp_noninvasive_min': 'float64',\n",
       " 'd1_heartrate_max': 'float64',\n",
       " 'd1_heartrate_min': 'float64',\n",
       " 'd1_mbp_invasive_max': 'float64',\n",
       " 'd1_mbp_invasive_min': 'float64',\n",
       " 'd1_mbp_max': 'float64',\n",
       " 'd1_mbp_min': 'float64',\n",
       " 'd1_mbp_noninvasive_max': 'float64',\n",
       " 'd1_mbp_noninvasive_min': 'float64',\n",
       " 'd1_resprate_max': 'float64',\n",
       " 'd1_resprate_min': 'float64',\n",
       " 'd1_spo2_max': 'float64',\n",
       " 'd1_spo2_min': 'float64',\n",
       " 'd1_sysbp_invasive_max': 'float64',\n",
       " 'd1_sysbp_invasive_min': 'float64',\n",
       " 'd1_sysbp_max': 'float64',\n",
       " 'd1_sysbp_min': 'float64',\n",
       " 'd1_sysbp_noninvasive_max': 'float64',\n",
       " 'd1_sysbp_noninvasive_min': 'float64',\n",
       " 'd1_temp_max': 'float64',\n",
       " 'd1_temp_min': 'float64',\n",
       " 'h1_diasbp_invasive_max': 'float64',\n",
       " 'h1_diasbp_invasive_min': 'float64',\n",
       " 'h1_diasbp_max': 'float64',\n",
       " 'h1_diasbp_min': 'float64',\n",
       " 'h1_diasbp_noninvasive_max': 'float64',\n",
       " 'h1_diasbp_noninvasive_min': 'float64',\n",
       " 'h1_heartrate_max': 'float64',\n",
       " 'h1_heartrate_min': 'float64',\n",
       " 'h1_mbp_invasive_max': 'float64',\n",
       " 'h1_mbp_invasive_min': 'float64',\n",
       " 'h1_mbp_max': 'float64',\n",
       " 'h1_mbp_min': 'float64',\n",
       " 'h1_mbp_noninvasive_max': 'float64',\n",
       " 'h1_mbp_noninvasive_min': 'float64',\n",
       " 'h1_resprate_max': 'float64',\n",
       " 'h1_resprate_min': 'float64',\n",
       " 'h1_spo2_max': 'float64',\n",
       " 'h1_spo2_min': 'float64',\n",
       " 'h1_sysbp_invasive_max': 'float64',\n",
       " 'h1_sysbp_invasive_min': 'float64',\n",
       " 'h1_sysbp_max': 'float64',\n",
       " 'h1_sysbp_min': 'float64',\n",
       " 'h1_sysbp_noninvasive_max': 'float64',\n",
       " 'h1_sysbp_noninvasive_min': 'float64',\n",
       " 'h1_temp_max': 'float64',\n",
       " 'h1_temp_min': 'float64',\n",
       " 'd1_albumin_max': 'float64',\n",
       " 'd1_albumin_min': 'float64',\n",
       " 'd1_bilirubin_max': 'float64',\n",
       " 'd1_bilirubin_min': 'float64',\n",
       " 'd1_bun_max': 'float64',\n",
       " 'd1_bun_min': 'float64',\n",
       " 'd1_calcium_max': 'float64',\n",
       " 'd1_calcium_min': 'float64',\n",
       " 'd1_creatinine_max': 'float64',\n",
       " 'd1_creatinine_min': 'float64',\n",
       " 'd1_glucose_max': 'float64',\n",
       " 'd1_glucose_min': 'float64',\n",
       " 'd1_hco3_max': 'float64',\n",
       " 'd1_hco3_min': 'float64',\n",
       " 'd1_hemaglobin_max': 'float64',\n",
       " 'd1_hemaglobin_min': 'float64',\n",
       " 'd1_hematocrit_max': 'float64',\n",
       " 'd1_hematocrit_min': 'float64',\n",
       " 'd1_inr_max': 'float64',\n",
       " 'd1_inr_min': 'float64',\n",
       " 'd1_lactate_max': 'float64',\n",
       " 'd1_lactate_min': 'float64',\n",
       " 'd1_platelets_max': 'float64',\n",
       " 'd1_platelets_min': 'float64',\n",
       " 'd1_potassium_max': 'float64',\n",
       " 'd1_potassium_min': 'float64',\n",
       " 'd1_sodium_max': 'float64',\n",
       " 'd1_sodium_min': 'float64',\n",
       " 'd1_wbc_max': 'float64',\n",
       " 'd1_wbc_min': 'float64',\n",
       " 'h1_albumin_max': 'float64',\n",
       " 'h1_albumin_min': 'float64',\n",
       " 'h1_bilirubin_max': 'float64',\n",
       " 'h1_bilirubin_min': 'float64',\n",
       " 'h1_bun_max': 'float64',\n",
       " 'h1_bun_min': 'float64',\n",
       " 'h1_calcium_max': 'float64',\n",
       " 'h1_calcium_min': 'float64',\n",
       " 'h1_creatinine_max': 'float64',\n",
       " 'h1_creatinine_min': 'float64',\n",
       " 'h1_glucose_max': 'float64',\n",
       " 'h1_glucose_min': 'float64',\n",
       " 'h1_hco3_max': 'float64',\n",
       " 'h1_hco3_min': 'float64',\n",
       " 'h1_hemaglobin_max': 'float64',\n",
       " 'h1_hemaglobin_min': 'float64',\n",
       " 'h1_hematocrit_max': 'float64',\n",
       " 'h1_hematocrit_min': 'float64',\n",
       " 'h1_inr_max': 'float64',\n",
       " 'h1_inr_min': 'float64',\n",
       " 'h1_lactate_max': 'float64',\n",
       " 'h1_lactate_min': 'float64',\n",
       " 'h1_platelets_max': 'float64',\n",
       " 'h1_platelets_min': 'float64',\n",
       " 'h1_potassium_max': 'float64',\n",
       " 'h1_potassium_min': 'float64',\n",
       " 'h1_sodium_max': 'float64',\n",
       " 'h1_sodium_min': 'float64',\n",
       " 'h1_wbc_max': 'float64',\n",
       " 'h1_wbc_min': 'float64',\n",
       " 'd1_arterial_pco2_max': 'float64',\n",
       " 'd1_arterial_pco2_min': 'float64',\n",
       " 'd1_arterial_ph_max': 'float64',\n",
       " 'd1_arterial_ph_min': 'float64',\n",
       " 'd1_arterial_po2_max': 'float64',\n",
       " 'd1_arterial_po2_min': 'float64',\n",
       " 'd1_pao2fio2ratio_max': 'float64',\n",
       " 'd1_pao2fio2ratio_min': 'float64',\n",
       " 'h1_arterial_pco2_max': 'float64',\n",
       " 'h1_arterial_pco2_min': 'float64',\n",
       " 'h1_arterial_ph_max': 'float64',\n",
       " 'h1_arterial_ph_min': 'float64',\n",
       " 'h1_arterial_po2_max': 'float64',\n",
       " 'h1_arterial_po2_min': 'float64',\n",
       " 'h1_pao2fio2ratio_max': 'float64',\n",
       " 'h1_pao2fio2ratio_min': 'float64'}"
      ]
     },
     "execution_count": 56,
     "metadata": {},
     "output_type": "execute_result"
    }
   ],
   "source": [
    "dtype_dict"
   ]
  },
  {
   "cell_type": "markdown",
   "id": "removed-geneva",
   "metadata": {},
   "source": [
    "# DTypes"
   ]
  },
  {
   "cell_type": "code",
   "execution_count": 113,
   "id": "becoming-exhibit",
   "metadata": {},
   "outputs": [],
   "source": [
    "diabetes = pd.read_csv(\"../data/raw/TrainingWiDS2021.csv\",dtype=dtype_dict)"
   ]
  },
  {
   "cell_type": "code",
   "execution_count": 58,
   "id": "annoying-practice",
   "metadata": {},
   "outputs": [
    {
     "data": {
      "text/plain": [
       "Unnamed: 0                       int64\n",
       "encounter_id                     int64\n",
       "hospital_id                      int64\n",
       "age                            float64\n",
       "bmi                            float64\n",
       "                                ...   \n",
       "immunosuppression                int64\n",
       "leukemia                         int64\n",
       "lymphoma                         int64\n",
       "solid_tumor_with_metastasis      int64\n",
       "diabetes_mellitus                int64\n",
       "Length: 181, dtype: object"
      ]
     },
     "execution_count": 58,
     "metadata": {},
     "output_type": "execute_result"
    }
   ],
   "source": [
    "diabetes.dtypes"
   ]
  },
  {
   "cell_type": "code",
   "execution_count": 59,
   "id": "caring-translator",
   "metadata": {},
   "outputs": [
    {
     "name": "stdout",
     "output_type": "stream",
     "text": [
      "Train File Size   :  (130157, 181)\n",
      "# encounter_id    :  130157\n",
      "# hospital_id     :  204\n"
     ]
    }
   ],
   "source": [
    "print(\"Train File Size   : \",diabetes.shape)\n",
    "print(\"# encounter_id    : \",diabetes.encounter_id.nunique())\n",
    "print(\"# hospital_id     : \",diabetes.hospital_id.nunique())"
   ]
  },
  {
   "cell_type": "code",
   "execution_count": 60,
   "id": "promotional-reason",
   "metadata": {},
   "outputs": [
    {
     "name": "stdout",
     "output_type": "stream",
     "text": [
      "<class 'pandas.core.frame.DataFrame'>\n",
      "RangeIndex: 130157 entries, 0 to 130156\n",
      "Columns: 181 entries, Unnamed: 0 to diabetes_mellitus\n",
      "dtypes: category(8), float64(155), int64(18)\n",
      "memory usage: 172.9 MB\n"
     ]
    }
   ],
   "source": [
    "diabetes.info()"
   ]
  },
  {
   "cell_type": "markdown",
   "id": "external-wesley",
   "metadata": {},
   "source": [
    "## Clean"
   ]
  },
  {
   "cell_type": "code",
   "execution_count": 110,
   "id": "equivalent-campaign",
   "metadata": {},
   "outputs": [],
   "source": [
    "import logging\n",
    "logging.basicConfig(level=logging.DEBUG)\n",
    "from sklego.pandas_utils import log_step,log_step_extra\n",
    "from collections import Counter"
   ]
  },
  {
   "cell_type": "code",
   "execution_count": 339,
   "id": "secret-aluminum",
   "metadata": {},
   "outputs": [],
   "source": [
    "def count_target(df, **kwargs):\n",
    "    \"\"\"Get initial Value Count Target\"\"\"\n",
    "    return \"Target : \" + str(Counter(df[\"diabetes_mellitus\"]))\n",
    "\n",
    "@log_step_extra(count_target)\n",
    "def start_pipe(df):\n",
    "    return df.set_index(\"encounter_id\").copy()\n",
    "\n",
    "# drop columns\n",
    "@log_step\n",
    "def drop_columns(df,perc_miss_col=97617):\n",
    "    invasive_features = list(filter(lambda x:\"_invasive_\" in x,df.columns))\n",
    "    df=df.drop(columns=[\"Unnamed: 0\",\"hospital_id\",\"hospital_admit_source\",\"readmission_status\",\"icu_id\"])\n",
    "    df=df.dropna(thresh=perc_miss_col,axis=1)\n",
    "    return df\n",
    "\n",
    "# drop rows\n",
    "@log_step\n",
    "@log_step_extra(count_target)\n",
    "def drop_rows(df,perc_miss_col=97617):\n",
    "    df=df.dropna(thresh=50)\n",
    "    return df\n",
    "\n",
    "# drop outliers\n",
    "@log_step\n",
    "@log_step_extra(count_target)\n",
    "def drop_outliers(df):\n",
    "    df=df[(df[\"age\"]>=18)&\\\n",
    "          (df[\"weight\"]>38.6)&\\\n",
    "          (df[\"pre_icu_los_days\"]<30)\n",
    "         ] \n",
    "    return df\n",
    "\n",
    "\n",
    "# replace pre_icu_los_days <0 with 0 "
   ]
  },
  {
   "cell_type": "code",
   "execution_count": 340,
   "id": "dried-detection",
   "metadata": {},
   "outputs": [
    {
     "name": "stdout",
     "output_type": "stream",
     "text": [
      "[start_pipe(df)] Target : Counter({0: 102006, 1: 28151})\n",
      "[drop_columns(df)] time=0:00:00.342973 n_obs=130157, n_col=101\n",
      "[drop_rows(df)] Target : Counter({0: 101820, 1: 28125})\n",
      "[drop_rows(df)] time=0:00:00.182999 n_obs=129945, n_col=101\n",
      "[drop_outliers(df)] Target : Counter({0: 94116, 1: 26674})\n",
      "[drop_outliers(df)] time=0:00:00.105028 n_obs=120790, n_col=101\n"
     ]
    }
   ],
   "source": [
    "clean_diabetes = diabetes.pipe(start_pipe)\\\n",
    "                         .pipe(drop_columns)\\\n",
    "                         .pipe(drop_rows)\\\n",
    "                         .pipe(drop_outliers)"
   ]
  },
  {
   "cell_type": "code",
   "execution_count": 333,
   "id": "southern-monaco",
   "metadata": {},
   "outputs": [],
   "source": [
    "# clean_diabetes[list(filter(lambda x:x in clean_diabetes.columns,demographic_features))]"
   ]
  },
  {
   "cell_type": "markdown",
   "id": "infectious-potato",
   "metadata": {},
   "source": [
    "## Hold OUT"
   ]
  },
  {
   "cell_type": "code",
   "execution_count": 342,
   "id": "obvious-celebration",
   "metadata": {},
   "outputs": [],
   "source": [
    "X = clean_diabetes.drop(\"diabetes_mellitus\",axis=1)\n",
    "y = clean_diabetes[\"diabetes_mellitus\"]"
   ]
  },
  {
   "cell_type": "code",
   "execution_count": 343,
   "id": "special-stamp",
   "metadata": {},
   "outputs": [],
   "source": [
    "from sklearn.model_selection import train_test_split"
   ]
  },
  {
   "cell_type": "code",
   "execution_count": 344,
   "id": "damaged-sport",
   "metadata": {},
   "outputs": [],
   "source": [
    "X_train, X_test, y_train, y_test = train_test_split(X, y,stratify=y, test_size=0.2, random_state=42)"
   ]
  },
  {
   "cell_type": "code",
   "execution_count": 352,
   "id": "engaging-reference",
   "metadata": {},
   "outputs": [],
   "source": [
    "pd.concat([X_train,y_train],axis=1).to_csv(\"../data/processed/Train.csv\")\n",
    "pd.concat([X_test,y_test],axis=1).to_csv(\"../data/processed/Test.csv\")"
   ]
  },
  {
   "cell_type": "markdown",
   "id": "thermal-pencil",
   "metadata": {},
   "source": [
    "## Feature Selection"
   ]
  },
  {
   "cell_type": "code",
   "execution_count": 353,
   "id": "ultimate-printer",
   "metadata": {},
   "outputs": [],
   "source": [
    "df = pd.concat([X_train,y_train],axis=1)"
   ]
  },
  {
   "cell_type": "code",
   "execution_count": 363,
   "id": "wound-feature",
   "metadata": {},
   "outputs": [
    {
     "data": {
      "text/plain": [
       "diabetes_mellitus           1.000000\n",
       "d1_glucose_max              0.400148\n",
       "glucose_apache              0.353342\n",
       "bmi                         0.163943\n",
       "d1_bun_max                  0.153020\n",
       "bun_apache                  0.151339\n",
       "weight                      0.149271\n",
       "d1_bun_min                  0.143426\n",
       "d1_glucose_min              0.139304\n",
       "d1_creatinine_max           0.129310\n",
       "d1_creatinine_min           0.127261\n",
       "creatinine_apache           0.127096\n",
       "arf_apache                  0.107027\n",
       "d1_potassium_max            0.093732\n",
       "age                         0.079158\n",
       "d1_sysbp_max                0.074782\n",
       "d1_sysbp_noninvasive_max    0.074721\n",
       "h1_sysbp_noninvasive_max    0.047823\n",
       "h1_sysbp_max                0.047403\n",
       "d1_calcium_max              0.044451\n",
       "d1_potassium_min            0.033585\n",
       "h1_sysbp_noninvasive_min    0.028375\n",
       "d1_sysbp_noninvasive_min    0.027452\n",
       "d1_sysbp_min                0.027118\n",
       "gcs_eyes_apache             0.027035\n",
       "gcs_motor_apache            0.026435\n",
       "h1_sysbp_min                0.026135\n",
       "pre_icu_los_days            0.025031\n",
       "d1_platelets_min            0.024448\n",
       "d1_platelets_max            0.022945\n",
       "d1_calcium_min              0.022903\n",
       "gcs_verbal_apache           0.022763\n",
       "d1_mbp_noninvasive_max      0.019165\n",
       "d1_mbp_max                  0.018146\n",
       "d1_heartrate_min            0.018007\n",
       "cirrhosis                   0.014105\n",
       "h1_spo2_max                 0.012027\n",
       "d1_wbc_min                  0.010482\n",
       "d1_spo2_max                 0.010476\n",
       "ventilated_apache           0.008231\n",
       "hepatic_failure             0.007754\n",
       "d1_resprate_max             0.007503\n",
       "h1_resprate_max             0.006286\n",
       "wbc_apache                  0.005434\n",
       "d1_wbc_max                  0.005083\n",
       "leukemia                    0.004354\n",
       "d1_spo2_min                 0.003913\n",
       "h1_heartrate_min            0.002582\n",
       "map_apache                  0.001832\n",
       "h1_resprate_min             0.000053\n",
       "Name: diabetes_mellitus, dtype: float64"
      ]
     },
     "execution_count": 363,
     "metadata": {},
     "output_type": "execute_result"
    }
   ],
   "source": [
    "df.corr()[\"diabetes_mellitus\"].sort_values(ascending=False).head(50)"
   ]
  },
  {
   "cell_type": "code",
   "execution_count": 364,
   "id": "sustained-merchant",
   "metadata": {},
   "outputs": [
    {
     "data": {
      "text/plain": [
       "diabetes_mellitus           1.000000\n",
       "d1_glucose_max              0.409606\n",
       "glucose_apache              0.323255\n",
       "d1_bun_max                  0.180051\n",
       "bun_apache                  0.179029\n",
       "bmi                         0.170071\n",
       "d1_creatinine_max           0.169626\n",
       "d1_bun_min                  0.162381\n",
       "creatinine_apache           0.159442\n",
       "d1_creatinine_min           0.155606\n",
       "weight                      0.147731\n",
       "arf_apache                  0.107027\n",
       "d1_glucose_min              0.101649\n",
       "d1_potassium_max            0.089729\n",
       "d1_sysbp_max                0.072501\n",
       "d1_sysbp_noninvasive_max    0.072425\n",
       "age                         0.068707\n",
       "h1_sysbp_noninvasive_max    0.042351\n",
       "d1_calcium_max              0.042220\n",
       "h1_sysbp_max                0.042069\n",
       "gcs_motor_apache            0.029142\n",
       "pre_icu_los_days            0.026205\n",
       "d1_platelets_min            0.026062\n",
       "d1_potassium_min            0.025887\n",
       "d1_heartrate_min            0.025147\n",
       "h1_sysbp_noninvasive_min    0.024952\n",
       "d1_platelets_max            0.024409\n",
       "gcs_eyes_apache             0.023429\n",
       "d1_sysbp_noninvasive_min    0.022884\n",
       "d1_sysbp_min                0.022601\n",
       "h1_sysbp_min                0.022398\n",
       "gcs_verbal_apache           0.020364\n",
       "d1_calcium_min              0.018477\n",
       "d1_wbc_min                  0.015919\n",
       "d1_mbp_noninvasive_max      0.014115\n",
       "cirrhosis                   0.014105\n",
       "d1_mbp_max                  0.012748\n",
       "d1_spo2_max                 0.012301\n",
       "wbc_apache                  0.011964\n",
       "d1_resprate_max             0.010983\n",
       "h1_resprate_max             0.010516\n",
       "h1_spo2_max                 0.009703\n",
       "d1_wbc_max                  0.009674\n",
       "ventilated_apache           0.008231\n",
       "hepatic_failure             0.007754\n",
       "h1_heartrate_min            0.006115\n",
       "leukemia                    0.004354\n",
       "h1_resprate_min             0.003774\n",
       "lymphoma                   -0.000291\n",
       "d1_spo2_min                -0.002637\n",
       "Name: diabetes_mellitus, dtype: float64"
      ]
     },
     "execution_count": 364,
     "metadata": {},
     "output_type": "execute_result"
    }
   ],
   "source": [
    "df.corr(method=\"spearman\")[\"diabetes_mellitus\"].sort_values(ascending=False).head(50)"
   ]
  },
  {
   "cell_type": "code",
   "execution_count": 366,
   "id": "communist-flexibility",
   "metadata": {},
   "outputs": [],
   "source": [
    "import phik\n",
    "from phik import resources, report"
   ]
  },
  {
   "cell_type": "code",
   "execution_count": 368,
   "id": "intimate-weapon",
   "metadata": {},
   "outputs": [
    {
     "name": "stdout",
     "output_type": "stream",
     "text": [
      "interval columns not set, guessing: ['age', 'bmi', 'elective_surgery', 'height', 'pre_icu_los_days', 'weight', 'apache_post_operative', 'arf_apache', 'bun_apache', 'creatinine_apache', 'gcs_eyes_apache', 'gcs_motor_apache', 'gcs_unable_apache', 'gcs_verbal_apache', 'glucose_apache', 'heart_rate_apache', 'hematocrit_apache', 'intubated_apache', 'map_apache', 'resprate_apache', 'sodium_apache', 'temp_apache', 'ventilated_apache', 'wbc_apache', 'd1_diasbp_max', 'd1_diasbp_min', 'd1_diasbp_noninvasive_max', 'd1_diasbp_noninvasive_min', 'd1_heartrate_max', 'd1_heartrate_min', 'd1_mbp_max', 'd1_mbp_min', 'd1_mbp_noninvasive_max', 'd1_mbp_noninvasive_min', 'd1_resprate_max', 'd1_resprate_min', 'd1_spo2_max', 'd1_spo2_min', 'd1_sysbp_max', 'd1_sysbp_min', 'd1_sysbp_noninvasive_max', 'd1_sysbp_noninvasive_min', 'd1_temp_max', 'd1_temp_min', 'h1_diasbp_max', 'h1_diasbp_min', 'h1_diasbp_noninvasive_max', 'h1_diasbp_noninvasive_min', 'h1_heartrate_max', 'h1_heartrate_min', 'h1_mbp_max', 'h1_mbp_min', 'h1_mbp_noninvasive_max', 'h1_mbp_noninvasive_min', 'h1_resprate_max', 'h1_resprate_min', 'h1_spo2_max', 'h1_spo2_min', 'h1_sysbp_max', 'h1_sysbp_min', 'h1_sysbp_noninvasive_max', 'h1_sysbp_noninvasive_min', 'h1_temp_max', 'h1_temp_min', 'd1_bun_max', 'd1_bun_min', 'd1_calcium_max', 'd1_calcium_min', 'd1_creatinine_max', 'd1_creatinine_min', 'd1_glucose_max', 'd1_glucose_min', 'd1_hco3_max', 'd1_hco3_min', 'd1_hemaglobin_max', 'd1_hemaglobin_min', 'd1_hematocrit_max', 'd1_hematocrit_min', 'd1_platelets_max', 'd1_platelets_min', 'd1_potassium_max', 'd1_potassium_min', 'd1_sodium_max', 'd1_sodium_min', 'd1_wbc_max', 'd1_wbc_min', 'aids', 'cirrhosis', 'hepatic_failure', 'immunosuppression', 'leukemia', 'lymphoma', 'solid_tumor_with_metastasis', 'diabetes_mellitus']\n",
      "Wall time: 1min 21s\n"
     ]
    },
    {
     "data": {
      "text/plain": [
       "diabetes_mellitus            1.000000\n",
       "d1_glucose_max               0.553597\n",
       "glucose_apache               0.510630\n",
       "apache_3j_diagnosis          0.327080\n",
       "apache_2_diagnosis           0.297864\n",
       "d1_glucose_min               0.272360\n",
       "d1_bun_max                   0.228022\n",
       "bun_apache                   0.226986\n",
       "bmi                          0.221897\n",
       "d1_bun_min                   0.210021\n",
       "d1_creatinine_min            0.206200\n",
       "creatinine_apache            0.204065\n",
       "d1_creatinine_max            0.201152\n",
       "weight                       0.196298\n",
       "arf_apache                   0.167138\n",
       "age                          0.149470\n",
       "d1_potassium_max             0.124642\n",
       "d1_hco3_min                  0.123358\n",
       "d1_hemaglobin_max            0.111602\n",
       "d1_hemaglobin_min            0.104049\n",
       "d1_hematocrit_max            0.099967\n",
       "d1_hematocrit_min            0.099546\n",
       "d1_sysbp_max                 0.099306\n",
       "d1_sysbp_noninvasive_max     0.099267\n",
       "hematocrit_apache            0.095826\n",
       "d1_sodium_min                0.090605\n",
       "h1_diasbp_min                0.085060\n",
       "sodium_apache                0.084173\n",
       "h1_diasbp_noninvasive_min    0.082041\n",
       "icu_type                     0.078008\n",
       "h1_diasbp_max                0.073630\n",
       "d1_potassium_min             0.073294\n",
       "h1_sysbp_noninvasive_max     0.072406\n",
       "ethnicity                    0.072124\n",
       "h1_sysbp_max                 0.071468\n",
       "h1_diasbp_noninvasive_max    0.069129\n",
       "d1_diasbp_min                0.067815\n",
       "heart_rate_apache            0.067669\n",
       "d1_diasbp_noninvasive_min    0.066437\n",
       "h1_sysbp_noninvasive_min     0.060631\n",
       "d1_calcium_max               0.059093\n",
       "h1_sysbp_min                 0.058272\n",
       "d1_hco3_max                  0.055279\n",
       "d1_diasbp_max                0.053607\n",
       "d1_sysbp_noninvasive_min     0.052419\n",
       "d1_sysbp_min                 0.052051\n",
       "d1_diasbp_noninvasive_max    0.051981\n",
       "d1_platelets_min             0.044646\n",
       "d1_sodium_max                0.041954\n",
       "h1_mbp_min                   0.041563\n",
       "Name: diabetes_mellitus, dtype: float64"
      ]
     },
     "execution_count": 368,
     "metadata": {},
     "output_type": "execute_result"
    }
   ],
   "source": [
    "%%time\n",
    "df.phik_matrix()[\"diabetes_mellitus\"].sort_values(ascending=False).head(50)"
   ]
  },
  {
   "cell_type": "code",
   "execution_count": null,
   "id": "concerned-sugar",
   "metadata": {},
   "outputs": [],
   "source": []
  }
 ],
 "metadata": {
  "kernelspec": {
   "display_name": "Python 3",
   "language": "python",
   "name": "python3"
  },
  "language_info": {
   "codemirror_mode": {
    "name": "ipython",
    "version": 3
   },
   "file_extension": ".py",
   "mimetype": "text/x-python",
   "name": "python",
   "nbconvert_exporter": "python",
   "pygments_lexer": "ipython3",
   "version": "3.7.9"
  }
 },
 "nbformat": 4,
 "nbformat_minor": 5
}
